{
 "cells": [
  {
   "cell_type": "code",
   "execution_count": 15,
   "metadata": {},
   "outputs": [
    {
     "name": "stdout",
     "output_type": "stream",
     "text": [
      "{'photos': {'data': [{'created_time': '2022-09-17T01:28:30+0000', 'id': '397460445884923'}, {'created_time': '2016-05-17T12:26:22+0000', 'id': '1102906986417577'}, {'created_time': '2015-12-25T05:08:47+0000', 'id': '1006990926009184'}, {'created_time': '2015-11-03T13:35:55+0000', 'id': '980023808705896'}], 'paging': {'cursors': {'before': 'QVFIUkxHMWhWQWdWWTdhaTZASTWJ1S1ZAKRWF2Rlh6OXp3SXNiY1QxRHlfX0FtSHNUVHNRRlpSc19JcDRTSHFmUVNEZATZAEVXRWbmo5TXFQZA2ZArU0FTdnI5RkFB', 'after': 'QVFIUkI5UVlvUUQ4em02eEFKbTZAQSXVrWHNIdVpuRy01RE1ybWJ1X0RfakRXelplMk4tcXlwdGhIRDJtaUs4SUdKdHM2dTlnOWZAVQzgxR1Y1eTZA2NER5dGtB'}}}, 'id': '980007442040866'}\n"
     ]
    }
   ],
   "source": [
    "import requests\n",
    "# Replace these values with your page ID and access token\n",
    "page_id = '980007442040866'\n",
    "access_token = 'EAAEQ644LICABO3HYtaWpXUsHe7Lt95vgecomAKErwDB5tPGiA1iWTFPYpnJ6jVad9OdRZAXEy5wSPdVNUqlPyslg0ZBzsWBc8ybBiABUxX7cCjcyycVvXgfUsFhXmh2tbEe3Y3j9Ei6NU6jDI0Jg0zhOPhGbg8BiOn14n6GKZBi7WmVBcICP2Anq8AIjPD7Amm0z1EIxfEdYuJa6AZDZD'\n",
    "# Make a GET request to the Facebook Graph API\n",
    "response = requests.get(f'https://graph.facebook.com/{page_id}?fields=photos&access_token={access_token}')\n",
    "# Check if the request was successful (status code 200)\n",
    "if response.status_code == 200:\n",
    "    # Print the response data\n",
    "    print(response.json())\n",
    "else:\n",
    "    print('Error fetching data:', response.text)"
   ]
  },
  {
   "cell_type": "code",
   "execution_count": null,
   "metadata": {},
   "outputs": [],
   "source": []
  }
 ],
 "metadata": {
  "kernelspec": {
   "display_name": "Python 3",
   "language": "python",
   "name": "python3"
  },
  "language_info": {
   "codemirror_mode": {
    "name": "ipython",
    "version": 3
   },
   "file_extension": ".py",
   "mimetype": "text/x-python",
   "name": "python",
   "nbconvert_exporter": "python",
   "pygments_lexer": "ipython3",
   "version": "3.10.11"
  }
 },
 "nbformat": 4,
 "nbformat_minor": 2
}
